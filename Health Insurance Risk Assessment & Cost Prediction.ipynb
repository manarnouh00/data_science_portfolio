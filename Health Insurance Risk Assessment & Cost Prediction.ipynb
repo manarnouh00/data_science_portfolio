{
    "cells": [
        {
            "metadata": {},
            "cell_type": "markdown",
            "source": "# Health Insurance Risk Assessment & Cost Prediction"
        },
        {
            "metadata": {},
            "cell_type": "markdown",
            "source": "### Obtained data from National Health and Nutrition Examination Year 2013 \nhttps://www.kaggle.com/cdc/national-health-and-nutrition-examination-survey \n#### Data Dictionary:\n* **Demographic Dataset**: https://wwwn.cdc.gov/Nchs/Nhanes/Search/variablelist.aspx?Component=Demographics&CycleBeginYear=2013\n* **Questionnaire dataset**: https://wwwn.cdc.gov/Nchs/Nhanes/Search/variablelist.aspx?Component=Questionnaire&CycleBeginYear=2013\n "
        },
        {
            "metadata": {},
            "cell_type": "markdown",
            "source": "## Import Libraries "
        },
        {
            "metadata": {},
            "cell_type": "code",
            "source": "import pandas as pd\nimport numpy as np\nimport requests\nfrom bs4 import BeautifulSoup\nimport matplotlib\nimport matplotlib.pyplot as plt\nfrom sklearn.cluster import KMeans\nfrom sklearn.preprocessing import MinMaxScaler\nfrom sklearn.decomposition import PCA\nfrom sklearn.model_selection import train_test_split\nfrom sklearn.linear_model import LogisticRegression\nimport pickle",
            "execution_count": 188,
            "outputs": []
        },
        {
            "metadata": {},
            "cell_type": "markdown",
            "source": "## Web Scrapping Data Dictionary"
        },
        {
            "metadata": {},
            "cell_type": "markdown",
            "source": "### Questionnaire file"
        },
        {
            "metadata": {},
            "cell_type": "code",
            "source": "web_page = requests.get(\"https://wwwn.cdc.gov/Nchs/Nhanes/Search/variablelist.aspx?Component=Questionnaire&CycleBeginYear=2013\").text\n\nsoup = BeautifulSoup(web_page)\n\ntable_tags = soup.find(\"table\", class_='table table-bordered table-striped')\n\ntr_tags = table_tags.find_all(\"tr\")\n\nques_dict_df = pd.DataFrame(columns=range(0,8), index = [0]) # I know the size\n\nfor row_marker, tr_tag in enumerate(tr_tags[1:]):\n  column_marker = 0\n  columns = tr_tag.find_all('td')\n  for column in columns:\n    ques_dict_df.loc[row_marker, column_marker] = column.get_text()\n    column_marker += 1\n\nheaders = ['Variable Name', 'Variable Description', 'Data File Name', 'Data File Description', 'Begin Year', 'EndYear\t', 'Component', 'Use Constraints']\nques_dict_df.columns = headers\n\n#ques_dict_df.to_csv(\"questionnaire_data_dictionary.csv\", index=False)",
            "execution_count": 189,
            "outputs": []
        },
        {
            "metadata": {},
            "cell_type": "markdown",
            "source": "### Demographic File"
        },
        {
            "metadata": {},
            "cell_type": "code",
            "source": "web_page = requests.get(\"https://wwwn.cdc.gov/Nchs/Nhanes/Search/variablelist.aspx?Component=Demographics&CycleBeginYear=2013\").text\n\nsoup = BeautifulSoup(web_page)\n\ntable_tags = soup.find(\"table\", class_='table table-bordered table-striped')\n\ntr_tags = table_tags.find_all(\"tr\")\n\ndemo_dict_df = pd.DataFrame(columns=range(0,8), index = [0]) # I know the size\n\nfor row_marker, tr_tag in enumerate(tr_tags[1:]):\n  column_marker = 0\n  columns = tr_tag.find_all('td')\n  for column in columns:\n    demo_dict_df.loc[row_marker, column_marker] = column.get_text()\n    column_marker += 1\n\nheaders = ['Variable Name', 'Variable Description', 'Data File Name', 'Data File Description', 'Begin Year', 'EndYear', 'Component', 'Use Constraints']\ndemo_dict_df.columns = headers\n\n#demo_dict_df.to_csv(\"demographics_data_dictionary.csv\", index=False)",
            "execution_count": 190,
            "outputs": []
        },
        {
            "metadata": {},
            "cell_type": "markdown",
            "source": "## Import Datasets"
        },
        {
            "metadata": {},
            "cell_type": "code",
            "source": "ques_df = pd.read_csv('questionnaire.csv')\nques_df",
            "execution_count": 191,
            "outputs": [
                {
                    "data": {
                        "text/html": "<div>\n<style scoped>\n    .dataframe tbody tr th:only-of-type {\n        vertical-align: middle;\n    }\n\n    .dataframe tbody tr th {\n        vertical-align: top;\n    }\n\n    .dataframe thead th {\n        text-align: right;\n    }\n</style>\n<table border=\"1\" class=\"dataframe\">\n  <thead>\n    <tr style=\"text-align: right;\">\n      <th></th>\n      <th>SEQN</th>\n      <th>ACD011A</th>\n      <th>ACD011B</th>\n      <th>ACD011C</th>\n      <th>ACD040</th>\n      <th>ACD110</th>\n      <th>ALQ101</th>\n      <th>ALQ110</th>\n      <th>ALQ120Q</th>\n      <th>ALQ120U</th>\n      <th>...</th>\n      <th>WHD080U</th>\n      <th>WHD080L</th>\n      <th>WHD110</th>\n      <th>WHD120</th>\n      <th>WHD130</th>\n      <th>WHD140</th>\n      <th>WHQ150</th>\n      <th>WHQ030M</th>\n      <th>WHQ500</th>\n      <th>WHQ520</th>\n    </tr>\n  </thead>\n  <tbody>\n    <tr>\n      <th>0</th>\n      <td>73557</td>\n      <td>1.0</td>\n      <td>NaN</td>\n      <td>NaN</td>\n      <td>NaN</td>\n      <td>NaN</td>\n      <td>1.0</td>\n      <td>NaN</td>\n      <td>1.0</td>\n      <td>3.0</td>\n      <td>...</td>\n      <td>NaN</td>\n      <td>40.0</td>\n      <td>270.0</td>\n      <td>200.0</td>\n      <td>69.0</td>\n      <td>270.0</td>\n      <td>62.0</td>\n      <td>NaN</td>\n      <td>NaN</td>\n      <td>NaN</td>\n    </tr>\n    <tr>\n      <th>1</th>\n      <td>73558</td>\n      <td>1.0</td>\n      <td>NaN</td>\n      <td>NaN</td>\n      <td>NaN</td>\n      <td>NaN</td>\n      <td>1.0</td>\n      <td>NaN</td>\n      <td>7.0</td>\n      <td>1.0</td>\n      <td>...</td>\n      <td>NaN</td>\n      <td>NaN</td>\n      <td>240.0</td>\n      <td>250.0</td>\n      <td>72.0</td>\n      <td>250.0</td>\n      <td>25.0</td>\n      <td>NaN</td>\n      <td>NaN</td>\n      <td>NaN</td>\n    </tr>\n    <tr>\n      <th>2</th>\n      <td>73559</td>\n      <td>1.0</td>\n      <td>NaN</td>\n      <td>NaN</td>\n      <td>NaN</td>\n      <td>NaN</td>\n      <td>1.0</td>\n      <td>NaN</td>\n      <td>0.0</td>\n      <td>NaN</td>\n      <td>...</td>\n      <td>NaN</td>\n      <td>NaN</td>\n      <td>180.0</td>\n      <td>190.0</td>\n      <td>70.0</td>\n      <td>228.0</td>\n      <td>35.0</td>\n      <td>NaN</td>\n      <td>NaN</td>\n      <td>NaN</td>\n    </tr>\n    <tr>\n      <th>3</th>\n      <td>73560</td>\n      <td>1.0</td>\n      <td>NaN</td>\n      <td>NaN</td>\n      <td>NaN</td>\n      <td>NaN</td>\n      <td>NaN</td>\n      <td>NaN</td>\n      <td>NaN</td>\n      <td>NaN</td>\n      <td>...</td>\n      <td>NaN</td>\n      <td>NaN</td>\n      <td>NaN</td>\n      <td>NaN</td>\n      <td>NaN</td>\n      <td>NaN</td>\n      <td>NaN</td>\n      <td>3.0</td>\n      <td>3.0</td>\n      <td>3.0</td>\n    </tr>\n    <tr>\n      <th>4</th>\n      <td>73561</td>\n      <td>1.0</td>\n      <td>NaN</td>\n      <td>NaN</td>\n      <td>NaN</td>\n      <td>NaN</td>\n      <td>1.0</td>\n      <td>NaN</td>\n      <td>0.0</td>\n      <td>NaN</td>\n      <td>...</td>\n      <td>NaN</td>\n      <td>NaN</td>\n      <td>150.0</td>\n      <td>135.0</td>\n      <td>67.0</td>\n      <td>170.0</td>\n      <td>60.0</td>\n      <td>NaN</td>\n      <td>NaN</td>\n      <td>NaN</td>\n    </tr>\n    <tr>\n      <th>...</th>\n      <td>...</td>\n      <td>...</td>\n      <td>...</td>\n      <td>...</td>\n      <td>...</td>\n      <td>...</td>\n      <td>...</td>\n      <td>...</td>\n      <td>...</td>\n      <td>...</td>\n      <td>...</td>\n      <td>...</td>\n      <td>...</td>\n      <td>...</td>\n      <td>...</td>\n      <td>...</td>\n      <td>...</td>\n      <td>...</td>\n      <td>...</td>\n      <td>...</td>\n      <td>...</td>\n    </tr>\n    <tr>\n      <th>10170</th>\n      <td>83727</td>\n      <td>NaN</td>\n      <td>NaN</td>\n      <td>NaN</td>\n      <td>3.0</td>\n      <td>NaN</td>\n      <td>1.0</td>\n      <td>NaN</td>\n      <td>1.0</td>\n      <td>2.0</td>\n      <td>...</td>\n      <td>NaN</td>\n      <td>NaN</td>\n      <td>NaN</td>\n      <td>NaN</td>\n      <td>NaN</td>\n      <td>150.0</td>\n      <td>26.0</td>\n      <td>NaN</td>\n      <td>NaN</td>\n      <td>NaN</td>\n    </tr>\n    <tr>\n      <th>10171</th>\n      <td>83728</td>\n      <td>NaN</td>\n      <td>NaN</td>\n      <td>NaN</td>\n      <td>NaN</td>\n      <td>NaN</td>\n      <td>NaN</td>\n      <td>NaN</td>\n      <td>NaN</td>\n      <td>NaN</td>\n      <td>...</td>\n      <td>NaN</td>\n      <td>NaN</td>\n      <td>NaN</td>\n      <td>NaN</td>\n      <td>NaN</td>\n      <td>NaN</td>\n      <td>NaN</td>\n      <td>NaN</td>\n      <td>NaN</td>\n      <td>NaN</td>\n    </tr>\n    <tr>\n      <th>10172</th>\n      <td>83729</td>\n      <td>1.0</td>\n      <td>NaN</td>\n      <td>NaN</td>\n      <td>NaN</td>\n      <td>NaN</td>\n      <td>NaN</td>\n      <td>NaN</td>\n      <td>NaN</td>\n      <td>NaN</td>\n      <td>...</td>\n      <td>NaN</td>\n      <td>NaN</td>\n      <td>155.0</td>\n      <td>135.0</td>\n      <td>NaN</td>\n      <td>195.0</td>\n      <td>42.0</td>\n      <td>NaN</td>\n      <td>NaN</td>\n      <td>NaN</td>\n    </tr>\n    <tr>\n      <th>10173</th>\n      <td>83730</td>\n      <td>NaN</td>\n      <td>NaN</td>\n      <td>NaN</td>\n      <td>4.0</td>\n      <td>NaN</td>\n      <td>NaN</td>\n      <td>NaN</td>\n      <td>NaN</td>\n      <td>NaN</td>\n      <td>...</td>\n      <td>NaN</td>\n      <td>NaN</td>\n      <td>NaN</td>\n      <td>NaN</td>\n      <td>NaN</td>\n      <td>NaN</td>\n      <td>NaN</td>\n      <td>NaN</td>\n      <td>NaN</td>\n      <td>NaN</td>\n    </tr>\n    <tr>\n      <th>10174</th>\n      <td>83731</td>\n      <td>NaN</td>\n      <td>NaN</td>\n      <td>NaN</td>\n      <td>NaN</td>\n      <td>5.0</td>\n      <td>NaN</td>\n      <td>NaN</td>\n      <td>NaN</td>\n      <td>NaN</td>\n      <td>...</td>\n      <td>NaN</td>\n      <td>NaN</td>\n      <td>NaN</td>\n      <td>NaN</td>\n      <td>NaN</td>\n      <td>NaN</td>\n      <td>NaN</td>\n      <td>3.0</td>\n      <td>3.0</td>\n      <td>2.0</td>\n    </tr>\n  </tbody>\n</table>\n<p>10175 rows \u00d7 953 columns</p>\n</div>",
                        "text/plain": "        SEQN  ACD011A  ACD011B  ACD011C  ACD040  ACD110  ALQ101  ALQ110  \\\n0      73557      1.0      NaN      NaN     NaN     NaN     1.0     NaN   \n1      73558      1.0      NaN      NaN     NaN     NaN     1.0     NaN   \n2      73559      1.0      NaN      NaN     NaN     NaN     1.0     NaN   \n3      73560      1.0      NaN      NaN     NaN     NaN     NaN     NaN   \n4      73561      1.0      NaN      NaN     NaN     NaN     1.0     NaN   \n...      ...      ...      ...      ...     ...     ...     ...     ...   \n10170  83727      NaN      NaN      NaN     3.0     NaN     1.0     NaN   \n10171  83728      NaN      NaN      NaN     NaN     NaN     NaN     NaN   \n10172  83729      1.0      NaN      NaN     NaN     NaN     NaN     NaN   \n10173  83730      NaN      NaN      NaN     4.0     NaN     NaN     NaN   \n10174  83731      NaN      NaN      NaN     NaN     5.0     NaN     NaN   \n\n       ALQ120Q  ALQ120U  ...  WHD080U  WHD080L  WHD110  WHD120  WHD130  \\\n0          1.0      3.0  ...      NaN     40.0   270.0   200.0    69.0   \n1          7.0      1.0  ...      NaN      NaN   240.0   250.0    72.0   \n2          0.0      NaN  ...      NaN      NaN   180.0   190.0    70.0   \n3          NaN      NaN  ...      NaN      NaN     NaN     NaN     NaN   \n4          0.0      NaN  ...      NaN      NaN   150.0   135.0    67.0   \n...        ...      ...  ...      ...      ...     ...     ...     ...   \n10170      1.0      2.0  ...      NaN      NaN     NaN     NaN     NaN   \n10171      NaN      NaN  ...      NaN      NaN     NaN     NaN     NaN   \n10172      NaN      NaN  ...      NaN      NaN   155.0   135.0     NaN   \n10173      NaN      NaN  ...      NaN      NaN     NaN     NaN     NaN   \n10174      NaN      NaN  ...      NaN      NaN     NaN     NaN     NaN   \n\n       WHD140  WHQ150  WHQ030M  WHQ500  WHQ520  \n0       270.0    62.0      NaN     NaN     NaN  \n1       250.0    25.0      NaN     NaN     NaN  \n2       228.0    35.0      NaN     NaN     NaN  \n3         NaN     NaN      3.0     3.0     3.0  \n4       170.0    60.0      NaN     NaN     NaN  \n...       ...     ...      ...     ...     ...  \n10170   150.0    26.0      NaN     NaN     NaN  \n10171     NaN     NaN      NaN     NaN     NaN  \n10172   195.0    42.0      NaN     NaN     NaN  \n10173     NaN     NaN      NaN     NaN     NaN  \n10174     NaN     NaN      3.0     3.0     2.0  \n\n[10175 rows x 953 columns]"
                    },
                    "execution_count": 191,
                    "metadata": {},
                    "output_type": "execute_result"
                }
            ]
        },
        {
            "metadata": {},
            "cell_type": "code",
            "source": "demo_df = pd.read_csv('demographic.csv')\ndemo_df",
            "execution_count": 192,
            "outputs": [
                {
                    "data": {
                        "text/html": "<div>\n<style scoped>\n    .dataframe tbody tr th:only-of-type {\n        vertical-align: middle;\n    }\n\n    .dataframe tbody tr th {\n        vertical-align: top;\n    }\n\n    .dataframe thead th {\n        text-align: right;\n    }\n</style>\n<table border=\"1\" class=\"dataframe\">\n  <thead>\n    <tr style=\"text-align: right;\">\n      <th></th>\n      <th>SEQN</th>\n      <th>SDDSRVYR</th>\n      <th>RIDSTATR</th>\n      <th>RIAGENDR</th>\n      <th>RIDAGEYR</th>\n      <th>RIDAGEMN</th>\n      <th>RIDRETH1</th>\n      <th>RIDRETH3</th>\n      <th>RIDEXMON</th>\n      <th>RIDEXAGM</th>\n      <th>...</th>\n      <th>DMDHREDU</th>\n      <th>DMDHRMAR</th>\n      <th>DMDHSEDU</th>\n      <th>WTINT2YR</th>\n      <th>WTMEC2YR</th>\n      <th>SDMVPSU</th>\n      <th>SDMVSTRA</th>\n      <th>INDHHIN2</th>\n      <th>INDFMIN2</th>\n      <th>INDFMPIR</th>\n    </tr>\n  </thead>\n  <tbody>\n    <tr>\n      <th>0</th>\n      <td>73557</td>\n      <td>8</td>\n      <td>2</td>\n      <td>1</td>\n      <td>69</td>\n      <td>NaN</td>\n      <td>4</td>\n      <td>4</td>\n      <td>1.0</td>\n      <td>NaN</td>\n      <td>...</td>\n      <td>3.0</td>\n      <td>4.0</td>\n      <td>NaN</td>\n      <td>13281.237386</td>\n      <td>13481.042095</td>\n      <td>1</td>\n      <td>112</td>\n      <td>4.0</td>\n      <td>4.0</td>\n      <td>0.84</td>\n    </tr>\n    <tr>\n      <th>1</th>\n      <td>73558</td>\n      <td>8</td>\n      <td>2</td>\n      <td>1</td>\n      <td>54</td>\n      <td>NaN</td>\n      <td>3</td>\n      <td>3</td>\n      <td>1.0</td>\n      <td>NaN</td>\n      <td>...</td>\n      <td>3.0</td>\n      <td>1.0</td>\n      <td>1.0</td>\n      <td>23682.057386</td>\n      <td>24471.769625</td>\n      <td>1</td>\n      <td>108</td>\n      <td>7.0</td>\n      <td>7.0</td>\n      <td>1.78</td>\n    </tr>\n    <tr>\n      <th>2</th>\n      <td>73559</td>\n      <td>8</td>\n      <td>2</td>\n      <td>1</td>\n      <td>72</td>\n      <td>NaN</td>\n      <td>3</td>\n      <td>3</td>\n      <td>2.0</td>\n      <td>NaN</td>\n      <td>...</td>\n      <td>4.0</td>\n      <td>1.0</td>\n      <td>3.0</td>\n      <td>57214.803319</td>\n      <td>57193.285376</td>\n      <td>1</td>\n      <td>109</td>\n      <td>10.0</td>\n      <td>10.0</td>\n      <td>4.51</td>\n    </tr>\n    <tr>\n      <th>3</th>\n      <td>73560</td>\n      <td>8</td>\n      <td>2</td>\n      <td>1</td>\n      <td>9</td>\n      <td>NaN</td>\n      <td>3</td>\n      <td>3</td>\n      <td>1.0</td>\n      <td>119.0</td>\n      <td>...</td>\n      <td>3.0</td>\n      <td>1.0</td>\n      <td>4.0</td>\n      <td>55201.178592</td>\n      <td>55766.512438</td>\n      <td>2</td>\n      <td>109</td>\n      <td>9.0</td>\n      <td>9.0</td>\n      <td>2.52</td>\n    </tr>\n    <tr>\n      <th>4</th>\n      <td>73561</td>\n      <td>8</td>\n      <td>2</td>\n      <td>2</td>\n      <td>73</td>\n      <td>NaN</td>\n      <td>3</td>\n      <td>3</td>\n      <td>1.0</td>\n      <td>NaN</td>\n      <td>...</td>\n      <td>5.0</td>\n      <td>1.0</td>\n      <td>5.0</td>\n      <td>63709.667069</td>\n      <td>65541.871229</td>\n      <td>2</td>\n      <td>116</td>\n      <td>15.0</td>\n      <td>15.0</td>\n      <td>5.00</td>\n    </tr>\n    <tr>\n      <th>...</th>\n      <td>...</td>\n      <td>...</td>\n      <td>...</td>\n      <td>...</td>\n      <td>...</td>\n      <td>...</td>\n      <td>...</td>\n      <td>...</td>\n      <td>...</td>\n      <td>...</td>\n      <td>...</td>\n      <td>...</td>\n      <td>...</td>\n      <td>...</td>\n      <td>...</td>\n      <td>...</td>\n      <td>...</td>\n      <td>...</td>\n      <td>...</td>\n      <td>...</td>\n      <td>...</td>\n    </tr>\n    <tr>\n      <th>10170</th>\n      <td>83727</td>\n      <td>8</td>\n      <td>2</td>\n      <td>1</td>\n      <td>26</td>\n      <td>NaN</td>\n      <td>2</td>\n      <td>2</td>\n      <td>2.0</td>\n      <td>NaN</td>\n      <td>...</td>\n      <td>3.0</td>\n      <td>NaN</td>\n      <td>NaN</td>\n      <td>27141.631824</td>\n      <td>28115.568221</td>\n      <td>1</td>\n      <td>104</td>\n      <td>77.0</td>\n      <td>77.0</td>\n      <td>NaN</td>\n    </tr>\n    <tr>\n      <th>10171</th>\n      <td>83728</td>\n      <td>8</td>\n      <td>2</td>\n      <td>2</td>\n      <td>2</td>\n      <td>24.0</td>\n      <td>1</td>\n      <td>1</td>\n      <td>2.0</td>\n      <td>24.0</td>\n      <td>...</td>\n      <td>3.0</td>\n      <td>1.0</td>\n      <td>3.0</td>\n      <td>15274.475360</td>\n      <td>16512.138781</td>\n      <td>1</td>\n      <td>107</td>\n      <td>8.0</td>\n      <td>8.0</td>\n      <td>1.95</td>\n    </tr>\n    <tr>\n      <th>10172</th>\n      <td>83729</td>\n      <td>8</td>\n      <td>2</td>\n      <td>2</td>\n      <td>42</td>\n      <td>NaN</td>\n      <td>4</td>\n      <td>4</td>\n      <td>2.0</td>\n      <td>NaN</td>\n      <td>...</td>\n      <td>5.0</td>\n      <td>3.0</td>\n      <td>NaN</td>\n      <td>24122.248900</td>\n      <td>26902.344381</td>\n      <td>1</td>\n      <td>104</td>\n      <td>7.0</td>\n      <td>7.0</td>\n      <td>3.66</td>\n    </tr>\n    <tr>\n      <th>10173</th>\n      <td>83730</td>\n      <td>8</td>\n      <td>2</td>\n      <td>1</td>\n      <td>7</td>\n      <td>NaN</td>\n      <td>2</td>\n      <td>2</td>\n      <td>1.0</td>\n      <td>84.0</td>\n      <td>...</td>\n      <td>4.0</td>\n      <td>1.0</td>\n      <td>3.0</td>\n      <td>25521.878546</td>\n      <td>26686.025573</td>\n      <td>2</td>\n      <td>109</td>\n      <td>6.0</td>\n      <td>6.0</td>\n      <td>1.05</td>\n    </tr>\n    <tr>\n      <th>10174</th>\n      <td>83731</td>\n      <td>8</td>\n      <td>2</td>\n      <td>1</td>\n      <td>11</td>\n      <td>NaN</td>\n      <td>5</td>\n      <td>6</td>\n      <td>1.0</td>\n      <td>140.0</td>\n      <td>...</td>\n      <td>5.0</td>\n      <td>1.0</td>\n      <td>5.0</td>\n      <td>8930.180154</td>\n      <td>9700.873491</td>\n      <td>2</td>\n      <td>106</td>\n      <td>15.0</td>\n      <td>15.0</td>\n      <td>5.00</td>\n    </tr>\n  </tbody>\n</table>\n<p>10175 rows \u00d7 47 columns</p>\n</div>",
                        "text/plain": "        SEQN  SDDSRVYR  RIDSTATR  RIAGENDR  RIDAGEYR  RIDAGEMN  RIDRETH1  \\\n0      73557         8         2         1        69       NaN         4   \n1      73558         8         2         1        54       NaN         3   \n2      73559         8         2         1        72       NaN         3   \n3      73560         8         2         1         9       NaN         3   \n4      73561         8         2         2        73       NaN         3   \n...      ...       ...       ...       ...       ...       ...       ...   \n10170  83727         8         2         1        26       NaN         2   \n10171  83728         8         2         2         2      24.0         1   \n10172  83729         8         2         2        42       NaN         4   \n10173  83730         8         2         1         7       NaN         2   \n10174  83731         8         2         1        11       NaN         5   \n\n       RIDRETH3  RIDEXMON  RIDEXAGM  ...  DMDHREDU  DMDHRMAR  DMDHSEDU  \\\n0             4       1.0       NaN  ...       3.0       4.0       NaN   \n1             3       1.0       NaN  ...       3.0       1.0       1.0   \n2             3       2.0       NaN  ...       4.0       1.0       3.0   \n3             3       1.0     119.0  ...       3.0       1.0       4.0   \n4             3       1.0       NaN  ...       5.0       1.0       5.0   \n...         ...       ...       ...  ...       ...       ...       ...   \n10170         2       2.0       NaN  ...       3.0       NaN       NaN   \n10171         1       2.0      24.0  ...       3.0       1.0       3.0   \n10172         4       2.0       NaN  ...       5.0       3.0       NaN   \n10173         2       1.0      84.0  ...       4.0       1.0       3.0   \n10174         6       1.0     140.0  ...       5.0       1.0       5.0   \n\n           WTINT2YR      WTMEC2YR  SDMVPSU  SDMVSTRA  INDHHIN2  INDFMIN2  \\\n0      13281.237386  13481.042095        1       112       4.0       4.0   \n1      23682.057386  24471.769625        1       108       7.0       7.0   \n2      57214.803319  57193.285376        1       109      10.0      10.0   \n3      55201.178592  55766.512438        2       109       9.0       9.0   \n4      63709.667069  65541.871229        2       116      15.0      15.0   \n...             ...           ...      ...       ...       ...       ...   \n10170  27141.631824  28115.568221        1       104      77.0      77.0   \n10171  15274.475360  16512.138781        1       107       8.0       8.0   \n10172  24122.248900  26902.344381        1       104       7.0       7.0   \n10173  25521.878546  26686.025573        2       109       6.0       6.0   \n10174   8930.180154   9700.873491        2       106      15.0      15.0   \n\n       INDFMPIR  \n0          0.84  \n1          1.78  \n2          4.51  \n3          2.52  \n4          5.00  \n...         ...  \n10170       NaN  \n10171      1.95  \n10172      3.66  \n10173      1.05  \n10174      5.00  \n\n[10175 rows x 47 columns]"
                    },
                    "execution_count": 192,
                    "metadata": {},
                    "output_type": "execute_result"
                }
            ]
        },
        {
            "metadata": {},
            "cell_type": "code",
            "source": "demo_dict_df = pd.read_csv('demographics_data_dictionary.csv')\ndemo_dict_df",
            "execution_count": 193,
            "outputs": [
                {
                    "data": {
                        "text/html": "<div>\n<style scoped>\n    .dataframe tbody tr th:only-of-type {\n        vertical-align: middle;\n    }\n\n    .dataframe tbody tr th {\n        vertical-align: top;\n    }\n\n    .dataframe thead th {\n        text-align: right;\n    }\n</style>\n<table border=\"1\" class=\"dataframe\">\n  <thead>\n    <tr style=\"text-align: right;\">\n      <th></th>\n      <th>Variable Name</th>\n      <th>Variable Description</th>\n      <th>Data File Name</th>\n      <th>Data File Description</th>\n      <th>Begin Year</th>\n      <th>EndYear\\t</th>\n      <th>Component</th>\n      <th>Use Constraints</th>\n    </tr>\n  </thead>\n  <tbody>\n    <tr>\n      <th>0</th>\n      <td>AIALANGA</td>\n      <td>Language of the MEC ACASI Interview Instrument</td>\n      <td>DEMO_H</td>\n      <td>Demographic Variables and Sample Weights</td>\n      <td>2013</td>\n      <td>2014</td>\n      <td>Demographics</td>\n      <td>None</td>\n    </tr>\n    <tr>\n      <th>1</th>\n      <td>DMDBORN4</td>\n      <td>In what country {were you/was SP} born?</td>\n      <td>DEMO_H</td>\n      <td>Demographic Variables and Sample Weights</td>\n      <td>2013</td>\n      <td>2014</td>\n      <td>Demographics</td>\n      <td>None</td>\n    </tr>\n    <tr>\n      <th>2</th>\n      <td>DMDCITZN</td>\n      <td>{Are you/Is SP} a citizen of the United States...</td>\n      <td>DEMO_H</td>\n      <td>Demographic Variables and Sample Weights</td>\n      <td>2013</td>\n      <td>2014</td>\n      <td>Demographics</td>\n      <td>None</td>\n    </tr>\n    <tr>\n      <th>3</th>\n      <td>DMDEDUC2</td>\n      <td>What is the highest grade or level of school {...</td>\n      <td>DEMO_H</td>\n      <td>Demographic Variables and Sample Weights</td>\n      <td>2013</td>\n      <td>2014</td>\n      <td>Demographics</td>\n      <td>None</td>\n    </tr>\n    <tr>\n      <th>4</th>\n      <td>DMDEDUC3</td>\n      <td>What is the highest grade or level of school {...</td>\n      <td>DEMO_H</td>\n      <td>Demographic Variables and Sample Weights</td>\n      <td>2013</td>\n      <td>2014</td>\n      <td>Demographics</td>\n      <td>None</td>\n    </tr>\n    <tr>\n      <th>...</th>\n      <td>...</td>\n      <td>...</td>\n      <td>...</td>\n      <td>...</td>\n      <td>...</td>\n      <td>...</td>\n      <td>...</td>\n      <td>...</td>\n    </tr>\n    <tr>\n      <th>391</th>\n      <td>STM2KX</td>\n      <td>Census 2010 Geocoder Street Matcher Return Cod...</td>\n      <td>GEO_2010</td>\n      <td>Geocoded Data, NHANES 1999-2016, Census 2010</td>\n      <td>1999</td>\n      <td>2016</td>\n      <td>Demographics</td>\n      <td>RDC Only</td>\n    </tr>\n    <tr>\n      <th>392</th>\n      <td>TRACT2KX</td>\n      <td>Census 2010 Tract (contains leader zeros with ...</td>\n      <td>GEO_2010</td>\n      <td>Geocoded Data, NHANES 1999-2016, Census 2010</td>\n      <td>1999</td>\n      <td>2016</td>\n      <td>Demographics</td>\n      <td>RDC Only</td>\n    </tr>\n    <tr>\n      <th>393</th>\n      <td>TRACT2KX</td>\n      <td>Census 2010 Tract (contains leader zeros with ...</td>\n      <td>GEO_2010</td>\n      <td>Geocoded Data, NHANES 1999-2016, Census 2010</td>\n      <td>1999</td>\n      <td>2016</td>\n      <td>Demographics</td>\n      <td>RDC Only</td>\n    </tr>\n    <tr>\n      <th>394</th>\n      <td>UR2KX</td>\n      <td>Urban/Rural Indicator (U = Urban, R = Rural, b...</td>\n      <td>GEO_2010</td>\n      <td>Geocoded Data, NHANES 1999-2016, Census 2010</td>\n      <td>1999</td>\n      <td>2016</td>\n      <td>Demographics</td>\n      <td>RDC Only</td>\n    </tr>\n    <tr>\n      <th>395</th>\n      <td>UR2KX</td>\n      <td>Urban/Rural Indicator (U = Urban, R = Rural, b...</td>\n      <td>GEO_2010</td>\n      <td>Geocoded Data, NHANES 1999-2016, Census 2010</td>\n      <td>1999</td>\n      <td>2016</td>\n      <td>Demographics</td>\n      <td>RDC Only</td>\n    </tr>\n  </tbody>\n</table>\n<p>396 rows \u00d7 8 columns</p>\n</div>",
                        "text/plain": "    Variable Name                               Variable Description  \\\n0        AIALANGA     Language of the MEC ACASI Interview Instrument   \n1        DMDBORN4            In what country {were you/was SP} born?   \n2        DMDCITZN  {Are you/Is SP} a citizen of the United States...   \n3        DMDEDUC2  What is the highest grade or level of school {...   \n4        DMDEDUC3  What is the highest grade or level of school {...   \n..            ...                                                ...   \n391        STM2KX  Census 2010 Geocoder Street Matcher Return Cod...   \n392      TRACT2KX  Census 2010 Tract (contains leader zeros with ...   \n393      TRACT2KX  Census 2010 Tract (contains leader zeros with ...   \n394         UR2KX  Urban/Rural Indicator (U = Urban, R = Rural, b...   \n395         UR2KX  Urban/Rural Indicator (U = Urban, R = Rural, b...   \n\n    Data File Name                         Data File Description  Begin Year  \\\n0           DEMO_H      Demographic Variables and Sample Weights        2013   \n1           DEMO_H      Demographic Variables and Sample Weights        2013   \n2           DEMO_H      Demographic Variables and Sample Weights        2013   \n3           DEMO_H      Demographic Variables and Sample Weights        2013   \n4           DEMO_H      Demographic Variables and Sample Weights        2013   \n..             ...                                           ...         ...   \n391       GEO_2010  Geocoded Data, NHANES 1999-2016, Census 2010        1999   \n392       GEO_2010  Geocoded Data, NHANES 1999-2016, Census 2010        1999   \n393       GEO_2010  Geocoded Data, NHANES 1999-2016, Census 2010        1999   \n394       GEO_2010  Geocoded Data, NHANES 1999-2016, Census 2010        1999   \n395       GEO_2010  Geocoded Data, NHANES 1999-2016, Census 2010        1999   \n\n     EndYear\\t     Component Use Constraints  \n0         2014  Demographics            None  \n1         2014  Demographics            None  \n2         2014  Demographics            None  \n3         2014  Demographics            None  \n4         2014  Demographics            None  \n..         ...           ...             ...  \n391       2016  Demographics        RDC Only  \n392       2016  Demographics        RDC Only  \n393       2016  Demographics        RDC Only  \n394       2016  Demographics        RDC Only  \n395       2016  Demographics        RDC Only  \n\n[396 rows x 8 columns]"
                    },
                    "execution_count": 193,
                    "metadata": {},
                    "output_type": "execute_result"
                }
            ]
        },
        {
            "metadata": {},
            "cell_type": "markdown",
            "source": "## Preprocessing \n1. *Renaming Demographic File*\n2. *Questionnare Feature Selection*\n2. *Questionnare Feature Generation*"
        },
        {
            "metadata": {},
            "cell_type": "markdown",
            "source": "## Renaming and Feature Selection :  Demographic File"
        },
        {
            "metadata": {},
            "cell_type": "code",
            "source": "demo_df.drop(columns=['RIDAGEMN','RIDEXMON','RIDEXAGM','DMQMILIZ','DMQADFC','DMDCITZN','DMDYRSUS','DMDEDUC3','DMDEDUC2','SIAPROXY','FIALANG',\n                      'MIAPROXY','MIAINTRP','AIALANGA','DMDHRBR4','FIAPROXY','SIAINTRP','SIALANG','FIAINTRP','MIALANG'], inplace = True)\n\nnames = demo_dict_df['Variable Name']\nkeys = []\nfor name in names:\n  if (name in demo_df.columns) and (name not in keys):\n    keys.append(name)\n\ndes = ['Place Of Birth','No. of Family Members','No. of People in Household', 'No. of Children 5 or younger',\n      'No. of Children aged 6-17', 'No. of adults aged 60+','HH Age','HH Education Level','HH Gender','HH Martial Status',\n      'HH Spouse Education Level','Martial Status', 'Total Family Income','Family income: Poverty','Total household income',\n       'Gender','Age','Pregnancy status','Race Recode','Race Recode','Interview and examination status','Data release cycle',\n      'Masked variance unit pseudo-PSU','Masked variance unit pseudo-stratum','SEQN','2 year interview weight','2 year MEC exam weight']\n\ncol_dict = dict(zip(keys,des))\n\ndemo_df.rename(columns=col_dict,inplace=True)\n\ndemo_df.to_csv('demo_renamed.csv',index=False)\n\ndemo_df.drop(columns=['Data release cycle', 'Interview and examination status','Race Recode', 'Race Recode', 'Place Of Birth','2 year interview weight',\n       '2 year MEC exam weight', 'Masked variance unit pseudo-PSU',\n       'Masked variance unit pseudo-stratum'],axis=1,inplace = True)\n\n#demo_df.to_csv('demo_dropped.csv',index=False)",
            "execution_count": 194,
            "outputs": []
        },
        {
            "metadata": {},
            "cell_type": "markdown",
            "source": "## Renaming & Feature Selection: Questionnare File"
        },
        {
            "metadata": {},
            "cell_type": "markdown",
            "source": "This was done externally using excel  "
        },
        {
            "metadata": {},
            "cell_type": "markdown",
            "source": "## Feature Selection and Generation"
        },
        {
            "metadata": {},
            "cell_type": "markdown",
            "source": "Looking for chronic diseases that contribute to many health problems and are most common in egypt:\n* **Diabetes**\n* **Cholestrol**\n* **Hypertension**\n* **Stroke**\n* **Heart Attack**\n\nHabits that contribute to chronic diseases\n* **Smoking**\n\n*Liver conditions* and *obesity* are also common chronic diseases that are looked at but weren't available (most values were null)\n"
        },
        {
            "metadata": {},
            "cell_type": "markdown",
            "source": "### Values Definition\n**1 = Yes**\n**2 = No**\n**3 = Don't Know**\n**7 = Refused to answer**\n**9 = Don't Know**"
        },
        {
            "metadata": {},
            "cell_type": "code",
            "source": "med_df = pd.DataFrame(columns=['SEQN','Heart Attack','Stroke'])\n\nmed_df['SEQN']=ques_df['SEQN']\nmed_df['Heart Attack'] = ques_df['MCQ160E']\nmed_df['Stroke'] = ques_df['MCQ160F']\n\n# drop rows with 2 null values\nmed_df = med_df.dropna(thresh=med_df.shape[1]-1, axis=0)\nmed_df",
            "execution_count": 195,
            "outputs": [
                {
                    "data": {
                        "text/html": "<div>\n<style scoped>\n    .dataframe tbody tr th:only-of-type {\n        vertical-align: middle;\n    }\n\n    .dataframe tbody tr th {\n        vertical-align: top;\n    }\n\n    .dataframe thead th {\n        text-align: right;\n    }\n</style>\n<table border=\"1\" class=\"dataframe\">\n  <thead>\n    <tr style=\"text-align: right;\">\n      <th></th>\n      <th>SEQN</th>\n      <th>Heart Attack</th>\n      <th>Stroke</th>\n    </tr>\n  </thead>\n  <tbody>\n    <tr>\n      <th>0</th>\n      <td>73557</td>\n      <td>2.0</td>\n      <td>1.0</td>\n    </tr>\n    <tr>\n      <th>1</th>\n      <td>73558</td>\n      <td>2.0</td>\n      <td>2.0</td>\n    </tr>\n    <tr>\n      <th>2</th>\n      <td>73559</td>\n      <td>2.0</td>\n      <td>2.0</td>\n    </tr>\n    <tr>\n      <th>4</th>\n      <td>73561</td>\n      <td>2.0</td>\n      <td>2.0</td>\n    </tr>\n    <tr>\n      <th>5</th>\n      <td>73562</td>\n      <td>1.0</td>\n      <td>2.0</td>\n    </tr>\n    <tr>\n      <th>...</th>\n      <td>...</td>\n      <td>...</td>\n      <td>...</td>\n    </tr>\n    <tr>\n      <th>10166</th>\n      <td>83723</td>\n      <td>2.0</td>\n      <td>2.0</td>\n    </tr>\n    <tr>\n      <th>10167</th>\n      <td>83724</td>\n      <td>2.0</td>\n      <td>2.0</td>\n    </tr>\n    <tr>\n      <th>10169</th>\n      <td>83726</td>\n      <td>2.0</td>\n      <td>2.0</td>\n    </tr>\n    <tr>\n      <th>10170</th>\n      <td>83727</td>\n      <td>2.0</td>\n      <td>2.0</td>\n    </tr>\n    <tr>\n      <th>10172</th>\n      <td>83729</td>\n      <td>2.0</td>\n      <td>2.0</td>\n    </tr>\n  </tbody>\n</table>\n<p>5769 rows \u00d7 3 columns</p>\n</div>",
                        "text/plain": "        SEQN  Heart Attack  Stroke\n0      73557           2.0     1.0\n1      73558           2.0     2.0\n2      73559           2.0     2.0\n4      73561           2.0     2.0\n5      73562           1.0     2.0\n...      ...           ...     ...\n10166  83723           2.0     2.0\n10167  83724           2.0     2.0\n10169  83726           2.0     2.0\n10170  83727           2.0     2.0\n10172  83729           2.0     2.0\n\n[5769 rows x 3 columns]"
                    },
                    "execution_count": 195,
                    "metadata": {},
                    "output_type": "execute_result"
                }
            ]
        },
        {
            "metadata": {},
            "cell_type": "code",
            "source": "med_df.loc[med_df['Heart Attack'] == 9]",
            "execution_count": 196,
            "outputs": [
                {
                    "data": {
                        "text/html": "<div>\n<style scoped>\n    .dataframe tbody tr th:only-of-type {\n        vertical-align: middle;\n    }\n\n    .dataframe tbody tr th {\n        vertical-align: top;\n    }\n\n    .dataframe thead th {\n        text-align: right;\n    }\n</style>\n<table border=\"1\" class=\"dataframe\">\n  <thead>\n    <tr style=\"text-align: right;\">\n      <th></th>\n      <th>SEQN</th>\n      <th>Heart Attack</th>\n      <th>Stroke</th>\n    </tr>\n  </thead>\n  <tbody>\n    <tr>\n      <th>136</th>\n      <td>73693</td>\n      <td>9.0</td>\n      <td>9.0</td>\n    </tr>\n    <tr>\n      <th>6397</th>\n      <td>79954</td>\n      <td>9.0</td>\n      <td>2.0</td>\n    </tr>\n    <tr>\n      <th>8309</th>\n      <td>81866</td>\n      <td>9.0</td>\n      <td>2.0</td>\n    </tr>\n  </tbody>\n</table>\n</div>",
                        "text/plain": "       SEQN  Heart Attack  Stroke\n136   73693           9.0     9.0\n6397  79954           9.0     2.0\n8309  81866           9.0     2.0"
                    },
                    "execution_count": 196,
                    "metadata": {},
                    "output_type": "execute_result"
                }
            ]
        },
        {
            "metadata": {},
            "cell_type": "code",
            "source": "med_df.loc[med_df['Heart Attack'] == 9,'Heart Attack'] = 2 # replace all don't knows with no",
            "execution_count": 197,
            "outputs": []
        },
        {
            "metadata": {},
            "cell_type": "code",
            "source": "med_df.loc[med_df['Stroke'] == 9]",
            "execution_count": 198,
            "outputs": [
                {
                    "data": {
                        "text/html": "<div>\n<style scoped>\n    .dataframe tbody tr th:only-of-type {\n        vertical-align: middle;\n    }\n\n    .dataframe tbody tr th {\n        vertical-align: top;\n    }\n\n    .dataframe thead th {\n        text-align: right;\n    }\n</style>\n<table border=\"1\" class=\"dataframe\">\n  <thead>\n    <tr style=\"text-align: right;\">\n      <th></th>\n      <th>SEQN</th>\n      <th>Heart Attack</th>\n      <th>Stroke</th>\n    </tr>\n  </thead>\n  <tbody>\n    <tr>\n      <th>136</th>\n      <td>73693</td>\n      <td>2.0</td>\n      <td>9.0</td>\n    </tr>\n    <tr>\n      <th>528</th>\n      <td>74085</td>\n      <td>1.0</td>\n      <td>9.0</td>\n    </tr>\n    <tr>\n      <th>4587</th>\n      <td>78144</td>\n      <td>1.0</td>\n      <td>9.0</td>\n    </tr>\n    <tr>\n      <th>8238</th>\n      <td>81795</td>\n      <td>2.0</td>\n      <td>9.0</td>\n    </tr>\n    <tr>\n      <th>9818</th>\n      <td>83375</td>\n      <td>2.0</td>\n      <td>9.0</td>\n    </tr>\n  </tbody>\n</table>\n</div>",
                        "text/plain": "       SEQN  Heart Attack  Stroke\n136   73693           2.0     9.0\n528   74085           1.0     9.0\n4587  78144           1.0     9.0\n8238  81795           2.0     9.0\n9818  83375           2.0     9.0"
                    },
                    "execution_count": 198,
                    "metadata": {},
                    "output_type": "execute_result"
                }
            ]
        },
        {
            "metadata": {},
            "cell_type": "code",
            "source": "med_df.loc[med_df['Stroke'] == 9,'Stroke'] =2 # replace all don't knows with no",
            "execution_count": 199,
            "outputs": []
        },
        {
            "metadata": {},
            "cell_type": "code",
            "source": "med_df.isnull().sum()",
            "execution_count": 200,
            "outputs": [
                {
                    "data": {
                        "text/plain": "SEQN            0\nHeart Attack    0\nStroke          0\ndtype: int64"
                    },
                    "execution_count": 200,
                    "metadata": {},
                    "output_type": "execute_result"
                }
            ]
        },
        {
            "metadata": {},
            "cell_type": "markdown",
            "source": "### Feature Generartion for Hypertension, Diabetes and Smoking"
        },
        {
            "metadata": {},
            "cell_type": "code",
            "source": "# create a dataframe to hold the chronic disease features\ndihypsm_df = pd.DataFrame()\n# fill with the corresponding data from the dictionary\ndihypsm_df['SEQN'] = ques_df['SEQN']\ndihypsm_df['Hypertension Age'] = ques_df['BPD035']\ndihypsm_df['Hypertension atleast 1 time'] = ques_df['BPQ020']\ndihypsm_df['Cholestrol'] = ques_df['BPQ080']\ndihypsm_df['Diabetes Age'] = ques_df['DID040']\ndihypsm_df['Family history of diabetes'] = ques_df['DIQ170']\ndihypsm_df['Age Smoking'] = ques_df['SMD030']",
            "execution_count": 201,
            "outputs": []
        },
        {
            "metadata": {},
            "cell_type": "code",
            "source": "# drop rows with 6 null values\ndihypsm_df = dihypsm_df.dropna(thresh=dihypsm_df.shape[1]-5, axis=0)\ndihypsm_df",
            "execution_count": 202,
            "outputs": [
                {
                    "data": {
                        "text/html": "<div>\n<style scoped>\n    .dataframe tbody tr th:only-of-type {\n        vertical-align: middle;\n    }\n\n    .dataframe tbody tr th {\n        vertical-align: top;\n    }\n\n    .dataframe thead th {\n        text-align: right;\n    }\n</style>\n<table border=\"1\" class=\"dataframe\">\n  <thead>\n    <tr style=\"text-align: right;\">\n      <th></th>\n      <th>SEQN</th>\n      <th>Hypertension Age</th>\n      <th>Hypertension atleast 1 time</th>\n      <th>Cholestrol</th>\n      <th>Diabetes Age</th>\n      <th>Family history of diabetes</th>\n      <th>Age Smoking</th>\n    </tr>\n  </thead>\n  <tbody>\n    <tr>\n      <th>0</th>\n      <td>73557</td>\n      <td>62.0</td>\n      <td>1.0</td>\n      <td>1.0</td>\n      <td>62.0</td>\n      <td>NaN</td>\n      <td>17.0</td>\n    </tr>\n    <tr>\n      <th>1</th>\n      <td>73558</td>\n      <td>53.0</td>\n      <td>1.0</td>\n      <td>1.0</td>\n      <td>23.0</td>\n      <td>NaN</td>\n      <td>0.0</td>\n    </tr>\n    <tr>\n      <th>2</th>\n      <td>73559</td>\n      <td>40.0</td>\n      <td>1.0</td>\n      <td>1.0</td>\n      <td>57.0</td>\n      <td>NaN</td>\n      <td>20.0</td>\n    </tr>\n    <tr>\n      <th>4</th>\n      <td>73561</td>\n      <td>55.0</td>\n      <td>1.0</td>\n      <td>2.0</td>\n      <td>NaN</td>\n      <td>2.0</td>\n      <td>NaN</td>\n    </tr>\n    <tr>\n      <th>5</th>\n      <td>73562</td>\n      <td>35.0</td>\n      <td>1.0</td>\n      <td>1.0</td>\n      <td>NaN</td>\n      <td>2.0</td>\n      <td>18.0</td>\n    </tr>\n    <tr>\n      <th>...</th>\n      <td>...</td>\n      <td>...</td>\n      <td>...</td>\n      <td>...</td>\n      <td>...</td>\n      <td>...</td>\n      <td>...</td>\n    </tr>\n    <tr>\n      <th>10166</th>\n      <td>83723</td>\n      <td>NaN</td>\n      <td>2.0</td>\n      <td>2.0</td>\n      <td>60.0</td>\n      <td>NaN</td>\n      <td>NaN</td>\n    </tr>\n    <tr>\n      <th>10167</th>\n      <td>83724</td>\n      <td>60.0</td>\n      <td>1.0</td>\n      <td>1.0</td>\n      <td>NaN</td>\n      <td>2.0</td>\n      <td>18.0</td>\n    </tr>\n    <tr>\n      <th>10169</th>\n      <td>83726</td>\n      <td>NaN</td>\n      <td>2.0</td>\n      <td>2.0</td>\n      <td>NaN</td>\n      <td>2.0</td>\n      <td>NaN</td>\n    </tr>\n    <tr>\n      <th>10170</th>\n      <td>83727</td>\n      <td>NaN</td>\n      <td>2.0</td>\n      <td>2.0</td>\n      <td>NaN</td>\n      <td>2.0</td>\n      <td>NaN</td>\n    </tr>\n    <tr>\n      <th>10172</th>\n      <td>83729</td>\n      <td>NaN</td>\n      <td>2.0</td>\n      <td>2.0</td>\n      <td>NaN</td>\n      <td>2.0</td>\n      <td>NaN</td>\n    </tr>\n  </tbody>\n</table>\n<p>7206 rows \u00d7 7 columns</p>\n</div>",
                        "text/plain": "        SEQN  Hypertension Age  Hypertension atleast 1 time  Cholestrol  \\\n0      73557              62.0                          1.0         1.0   \n1      73558              53.0                          1.0         1.0   \n2      73559              40.0                          1.0         1.0   \n4      73561              55.0                          1.0         2.0   \n5      73562              35.0                          1.0         1.0   \n...      ...               ...                          ...         ...   \n10166  83723               NaN                          2.0         2.0   \n10167  83724              60.0                          1.0         1.0   \n10169  83726               NaN                          2.0         2.0   \n10170  83727               NaN                          2.0         2.0   \n10172  83729               NaN                          2.0         2.0   \n\n       Diabetes Age  Family history of diabetes  Age Smoking  \n0              62.0                         NaN         17.0  \n1              23.0                         NaN          0.0  \n2              57.0                         NaN         20.0  \n4               NaN                         2.0          NaN  \n5               NaN                         2.0         18.0  \n...             ...                         ...          ...  \n10166          60.0                         NaN          NaN  \n10167           NaN                         2.0         18.0  \n10169           NaN                         2.0          NaN  \n10170           NaN                         2.0          NaN  \n10172           NaN                         2.0          NaN  \n\n[7206 rows x 7 columns]"
                    },
                    "execution_count": 202,
                    "metadata": {},
                    "output_type": "execute_result"
                }
            ]
        },
        {
            "metadata": {},
            "cell_type": "markdown",
            "source": "#### Diabetes Feature Generation"
        },
        {
            "metadata": {},
            "cell_type": "code",
            "source": "# All people that have answered the diabetes age question will be put in a diabetic dataframe\n# All people that haven't answered the diabetes age question and don't have any family history for diabetes will be put in a non-diabetic datafram\n# All people that haven't answered the diabetes age question and have family history for diabetes will be put in a prediabetic dataframe\ndia_yes = dihypsm_df.loc[dihypsm_df['Diabetes Age'].isnull() == False]\ndia_no = dihypsm_df.loc[(dihypsm_df['Diabetes Age'].isnull() == True) & (dihypsm_df['Family history of diabetes'] == 2)]\ndia_maybe = dihypsm_df.loc[(dihypsm_df['Diabetes Age'].isnull() == True) & (dihypsm_df['Family history of diabetes'] == 1)]",
            "execution_count": 203,
            "outputs": []
        },
        {
            "metadata": {},
            "cell_type": "code",
            "source": "# each value contributes to yes, no, prediabetic\ndia_yes['Diabetes'] = 1\ndia_no['Diabetes'] = 2\ndia_maybe['Diabetes'] = 0.5",
            "execution_count": null,
            "outputs": []
        },
        {
            "metadata": {},
            "cell_type": "code",
            "source": "#drop diabetes age and family history of diabetes from dataframes\ndihypsm_df.drop(columns=['Diabetes Age','Family history of diabetes'], inplace = True)\ndia_yes.drop(columns=['Diabetes Age','Family history of diabetes'], inplace = True)\ndia_no.drop(columns=['Diabetes Age','Family history of diabetes'], inplace = True)\ndia_maybe.drop(columns=['Diabetes Age','Family history of diabetes'], inplace = True)",
            "execution_count": null,
            "outputs": []
        },
        {
            "metadata": {},
            "cell_type": "code",
            "source": "# merge all three diabetes categories\ndia = dia_yes.append(dia_maybe, ignore_index=True)\ndia = dia.append(dia_no, ignore_index=True)\ndihypsm_df['Diabetes'] = dihypsm_df.SEQN.map(dia.set_index('SEQN')['Diabetes']).fillna(2) # fill the null values with 2\ndihypsm_df",
            "execution_count": 206,
            "outputs": [
                {
                    "data": {
                        "text/html": "<div>\n<style scoped>\n    .dataframe tbody tr th:only-of-type {\n        vertical-align: middle;\n    }\n\n    .dataframe tbody tr th {\n        vertical-align: top;\n    }\n\n    .dataframe thead th {\n        text-align: right;\n    }\n</style>\n<table border=\"1\" class=\"dataframe\">\n  <thead>\n    <tr style=\"text-align: right;\">\n      <th></th>\n      <th>SEQN</th>\n      <th>Hypertension Age</th>\n      <th>Hypertension atleast 1 time</th>\n      <th>Cholestrol</th>\n      <th>Age Smoking</th>\n      <th>Diabetes</th>\n    </tr>\n  </thead>\n  <tbody>\n    <tr>\n      <th>0</th>\n      <td>73557</td>\n      <td>62.0</td>\n      <td>1.0</td>\n      <td>1.0</td>\n      <td>17.0</td>\n      <td>1.0</td>\n    </tr>\n    <tr>\n      <th>1</th>\n      <td>73558</td>\n      <td>53.0</td>\n      <td>1.0</td>\n      <td>1.0</td>\n      <td>0.0</td>\n      <td>1.0</td>\n    </tr>\n    <tr>\n      <th>2</th>\n      <td>73559</td>\n      <td>40.0</td>\n      <td>1.0</td>\n      <td>1.0</td>\n      <td>20.0</td>\n      <td>1.0</td>\n    </tr>\n    <tr>\n      <th>4</th>\n      <td>73561</td>\n      <td>55.0</td>\n      <td>1.0</td>\n      <td>2.0</td>\n      <td>NaN</td>\n      <td>2.0</td>\n    </tr>\n    <tr>\n      <th>5</th>\n      <td>73562</td>\n      <td>35.0</td>\n      <td>1.0</td>\n      <td>1.0</td>\n      <td>18.0</td>\n      <td>2.0</td>\n    </tr>\n    <tr>\n      <th>...</th>\n      <td>...</td>\n      <td>...</td>\n      <td>...</td>\n      <td>...</td>\n      <td>...</td>\n      <td>...</td>\n    </tr>\n    <tr>\n      <th>10166</th>\n      <td>83723</td>\n      <td>NaN</td>\n      <td>2.0</td>\n      <td>2.0</td>\n      <td>NaN</td>\n      <td>1.0</td>\n    </tr>\n    <tr>\n      <th>10167</th>\n      <td>83724</td>\n      <td>60.0</td>\n      <td>1.0</td>\n      <td>1.0</td>\n      <td>18.0</td>\n      <td>2.0</td>\n    </tr>\n    <tr>\n      <th>10169</th>\n      <td>83726</td>\n      <td>NaN</td>\n      <td>2.0</td>\n      <td>2.0</td>\n      <td>NaN</td>\n      <td>2.0</td>\n    </tr>\n    <tr>\n      <th>10170</th>\n      <td>83727</td>\n      <td>NaN</td>\n      <td>2.0</td>\n      <td>2.0</td>\n      <td>NaN</td>\n      <td>2.0</td>\n    </tr>\n    <tr>\n      <th>10172</th>\n      <td>83729</td>\n      <td>NaN</td>\n      <td>2.0</td>\n      <td>2.0</td>\n      <td>NaN</td>\n      <td>2.0</td>\n    </tr>\n  </tbody>\n</table>\n<p>7206 rows \u00d7 6 columns</p>\n</div>",
                        "text/plain": "        SEQN  Hypertension Age  Hypertension atleast 1 time  Cholestrol  \\\n0      73557              62.0                          1.0         1.0   \n1      73558              53.0                          1.0         1.0   \n2      73559              40.0                          1.0         1.0   \n4      73561              55.0                          1.0         2.0   \n5      73562              35.0                          1.0         1.0   \n...      ...               ...                          ...         ...   \n10166  83723               NaN                          2.0         2.0   \n10167  83724              60.0                          1.0         1.0   \n10169  83726               NaN                          2.0         2.0   \n10170  83727               NaN                          2.0         2.0   \n10172  83729               NaN                          2.0         2.0   \n\n       Age Smoking  Diabetes  \n0             17.0       1.0  \n1              0.0       1.0  \n2             20.0       1.0  \n4              NaN       2.0  \n5             18.0       2.0  \n...            ...       ...  \n10166          NaN       1.0  \n10167         18.0       2.0  \n10169          NaN       2.0  \n10170          NaN       2.0  \n10172          NaN       2.0  \n\n[7206 rows x 6 columns]"
                    },
                    "execution_count": 206,
                    "metadata": {},
                    "output_type": "execute_result"
                }
            ]
        },
        {
            "metadata": {},
            "cell_type": "markdown",
            "source": "#### Hypertension Feature Generation\n"
        },
        {
            "metadata": {},
            "cell_type": "code",
            "source": "# replacing the hypertension age into a hypertension feature containing yes or no\n# if someone answered the hypertension age then that person has hypertension \ndihypsm_df.loc[(dihypsm_df['Hypertension Age'].isna() == False), 'Hypertension Age'] = 1\n# assume that if someone didn't answer the hypertension age but has been told that they has been told that they have hypertension one time or more\ndihypsm_df.loc[(dihypsm_df['Hypertension Age'].isna() == True) & (dihypsm_df['Hypertension atleast 1 time'] == 1), 'Hypertension Age'] = 1\n# assume that remaing null values in hypertension age mean that they don't have hypertension\ndihypsm_df.loc[(dihypsm_df['Hypertension Age'].isna() == True), 'Hypertension Age'] = 2\n# drop the hypertension atleast 1 time feature\ndihypsm_df.drop(columns=['Hypertension atleast 1 time'], inplace = True)",
            "execution_count": 207,
            "outputs": []
        },
        {
            "metadata": {},
            "cell_type": "markdown",
            "source": "#### Smoking Feature Generation"
        },
        {
            "metadata": {},
            "cell_type": "code",
            "source": "#if someone answered the smoking age question then assume as smoker\n#if someone didn't answer the smoking age question assume as non-smoker\ndihypsm_df.loc[(dihypsm_df['Age Smoking'].isna() == False), 'Age Smoking'] = 1\ndihypsm_df.loc[(dihypsm_df['Age Smoking'].isna() == True), 'Age Smoking'] = 2",
            "execution_count": 208,
            "outputs": []
        },
        {
            "metadata": {},
            "cell_type": "code",
            "source": "dihypsm_df.rename(columns={\"Hypertension Age\": 'Hypertension', \"Age Smoking\": 'Smoking'}, inplace = True)",
            "execution_count": 209,
            "outputs": []
        },
        {
            "metadata": {},
            "cell_type": "markdown",
            "source": "#### Cholestrol Feature"
        },
        {
            "metadata": {},
            "cell_type": "code",
            "source": "dihypsm_df.loc[dihypsm_df['Cholestrol'].isna()] = 2 # assume that all nulls are no\ndihypsm_df.loc[dihypsm_df['Cholestrol'] == 9 ,'Cholestrol'] = 2 # assume that all don't knows are no ",
            "execution_count": 210,
            "outputs": []
        },
        {
            "metadata": {},
            "cell_type": "code",
            "source": "# merge the dihypsm dataframe to the inital med dataframe\nmed_df = med_df.merge(dihypsm_df, on='SEQN')\nmed_df",
            "execution_count": 211,
            "outputs": [
                {
                    "data": {
                        "text/html": "<div>\n<style scoped>\n    .dataframe tbody tr th:only-of-type {\n        vertical-align: middle;\n    }\n\n    .dataframe tbody tr th {\n        vertical-align: top;\n    }\n\n    .dataframe thead th {\n        text-align: right;\n    }\n</style>\n<table border=\"1\" class=\"dataframe\">\n  <thead>\n    <tr style=\"text-align: right;\">\n      <th></th>\n      <th>SEQN</th>\n      <th>Heart Attack</th>\n      <th>Stroke</th>\n      <th>Hypertension</th>\n      <th>Cholestrol</th>\n      <th>Smoking</th>\n      <th>Diabetes</th>\n    </tr>\n  </thead>\n  <tbody>\n    <tr>\n      <th>0</th>\n      <td>73557</td>\n      <td>2.0</td>\n      <td>1.0</td>\n      <td>1.0</td>\n      <td>1.0</td>\n      <td>1.0</td>\n      <td>1.0</td>\n    </tr>\n    <tr>\n      <th>1</th>\n      <td>73558</td>\n      <td>2.0</td>\n      <td>2.0</td>\n      <td>1.0</td>\n      <td>1.0</td>\n      <td>1.0</td>\n      <td>1.0</td>\n    </tr>\n    <tr>\n      <th>2</th>\n      <td>73559</td>\n      <td>2.0</td>\n      <td>2.0</td>\n      <td>1.0</td>\n      <td>1.0</td>\n      <td>1.0</td>\n      <td>1.0</td>\n    </tr>\n    <tr>\n      <th>3</th>\n      <td>73561</td>\n      <td>2.0</td>\n      <td>2.0</td>\n      <td>1.0</td>\n      <td>2.0</td>\n      <td>2.0</td>\n      <td>2.0</td>\n    </tr>\n    <tr>\n      <th>4</th>\n      <td>73562</td>\n      <td>1.0</td>\n      <td>2.0</td>\n      <td>1.0</td>\n      <td>1.0</td>\n      <td>1.0</td>\n      <td>2.0</td>\n    </tr>\n    <tr>\n      <th>...</th>\n      <td>...</td>\n      <td>...</td>\n      <td>...</td>\n      <td>...</td>\n      <td>...</td>\n      <td>...</td>\n      <td>...</td>\n    </tr>\n    <tr>\n      <th>5764</th>\n      <td>83723</td>\n      <td>2.0</td>\n      <td>2.0</td>\n      <td>2.0</td>\n      <td>2.0</td>\n      <td>2.0</td>\n      <td>1.0</td>\n    </tr>\n    <tr>\n      <th>5765</th>\n      <td>83724</td>\n      <td>2.0</td>\n      <td>2.0</td>\n      <td>1.0</td>\n      <td>1.0</td>\n      <td>1.0</td>\n      <td>2.0</td>\n    </tr>\n    <tr>\n      <th>5766</th>\n      <td>83726</td>\n      <td>2.0</td>\n      <td>2.0</td>\n      <td>2.0</td>\n      <td>2.0</td>\n      <td>2.0</td>\n      <td>2.0</td>\n    </tr>\n    <tr>\n      <th>5767</th>\n      <td>83727</td>\n      <td>2.0</td>\n      <td>2.0</td>\n      <td>2.0</td>\n      <td>2.0</td>\n      <td>2.0</td>\n      <td>2.0</td>\n    </tr>\n    <tr>\n      <th>5768</th>\n      <td>83729</td>\n      <td>2.0</td>\n      <td>2.0</td>\n      <td>2.0</td>\n      <td>2.0</td>\n      <td>2.0</td>\n      <td>2.0</td>\n    </tr>\n  </tbody>\n</table>\n<p>5769 rows \u00d7 7 columns</p>\n</div>",
                        "text/plain": "       SEQN  Heart Attack  Stroke  Hypertension  Cholestrol  Smoking  Diabetes\n0     73557           2.0     1.0           1.0         1.0      1.0       1.0\n1     73558           2.0     2.0           1.0         1.0      1.0       1.0\n2     73559           2.0     2.0           1.0         1.0      1.0       1.0\n3     73561           2.0     2.0           1.0         2.0      2.0       2.0\n4     73562           1.0     2.0           1.0         1.0      1.0       2.0\n...     ...           ...     ...           ...         ...      ...       ...\n5764  83723           2.0     2.0           2.0         2.0      2.0       1.0\n5765  83724           2.0     2.0           1.0         1.0      1.0       2.0\n5766  83726           2.0     2.0           2.0         2.0      2.0       2.0\n5767  83727           2.0     2.0           2.0         2.0      2.0       2.0\n5768  83729           2.0     2.0           2.0         2.0      2.0       2.0\n\n[5769 rows x 7 columns]"
                    },
                    "execution_count": 211,
                    "metadata": {},
                    "output_type": "execute_result"
                }
            ]
        },
        {
            "metadata": {},
            "cell_type": "markdown",
            "source": "## Reselecting Demographic Features"
        },
        {
            "metadata": {},
            "cell_type": "code",
            "source": "med_df['Gender'] = med_df.SEQN.map(demo_df.set_index('SEQN')['Gender']) # 1- MALE , 2- FEMALE\nmed_df['Age'] = med_df.SEQN.map(demo_df.set_index('SEQN')['Age'])\nmed_df['Pregnancy Status']=  med_df.SEQN.map(demo_df.set_index('SEQN')['Pregnancy status']) #1- YES, 2- NO, 3- DON'T KNOW",
            "execution_count": 212,
            "outputs": []
        },
        {
            "metadata": {},
            "cell_type": "code",
            "source": "# let all male participents have a pregnancy status of 0 for unqualified\nmed_df.loc[med_df['Gender'] == 1, 'Pregnancy Status'] = 0\n# assume that any female that didn't answer isn't pregnant\nmed_df.loc[(med_df['Gender'] == 2) & (med_df['Pregnancy Status'].isna() == True), 'Pregnancy Status'] = 2\n# replace the don't knows with not pregnant\nmed_df.loc[med_df['Pregnancy Status']== 3, 'Pregnancy Status'] = 2\nmed_df",
            "execution_count": 213,
            "outputs": [
                {
                    "data": {
                        "text/html": "<div>\n<style scoped>\n    .dataframe tbody tr th:only-of-type {\n        vertical-align: middle;\n    }\n\n    .dataframe tbody tr th {\n        vertical-align: top;\n    }\n\n    .dataframe thead th {\n        text-align: right;\n    }\n</style>\n<table border=\"1\" class=\"dataframe\">\n  <thead>\n    <tr style=\"text-align: right;\">\n      <th></th>\n      <th>SEQN</th>\n      <th>Heart Attack</th>\n      <th>Stroke</th>\n      <th>Hypertension</th>\n      <th>Cholestrol</th>\n      <th>Smoking</th>\n      <th>Diabetes</th>\n      <th>Gender</th>\n      <th>Age</th>\n      <th>Pregnancy Status</th>\n    </tr>\n  </thead>\n  <tbody>\n    <tr>\n      <th>0</th>\n      <td>73557</td>\n      <td>2.0</td>\n      <td>1.0</td>\n      <td>1.0</td>\n      <td>1.0</td>\n      <td>1.0</td>\n      <td>1.0</td>\n      <td>1</td>\n      <td>69</td>\n      <td>0.0</td>\n    </tr>\n    <tr>\n      <th>1</th>\n      <td>73558</td>\n      <td>2.0</td>\n      <td>2.0</td>\n      <td>1.0</td>\n      <td>1.0</td>\n      <td>1.0</td>\n      <td>1.0</td>\n      <td>1</td>\n      <td>54</td>\n      <td>0.0</td>\n    </tr>\n    <tr>\n      <th>2</th>\n      <td>73559</td>\n      <td>2.0</td>\n      <td>2.0</td>\n      <td>1.0</td>\n      <td>1.0</td>\n      <td>1.0</td>\n      <td>1.0</td>\n      <td>1</td>\n      <td>72</td>\n      <td>0.0</td>\n    </tr>\n    <tr>\n      <th>3</th>\n      <td>73561</td>\n      <td>2.0</td>\n      <td>2.0</td>\n      <td>1.0</td>\n      <td>2.0</td>\n      <td>2.0</td>\n      <td>2.0</td>\n      <td>2</td>\n      <td>73</td>\n      <td>2.0</td>\n    </tr>\n    <tr>\n      <th>4</th>\n      <td>73562</td>\n      <td>1.0</td>\n      <td>2.0</td>\n      <td>1.0</td>\n      <td>1.0</td>\n      <td>1.0</td>\n      <td>2.0</td>\n      <td>1</td>\n      <td>56</td>\n      <td>0.0</td>\n    </tr>\n    <tr>\n      <th>...</th>\n      <td>...</td>\n      <td>...</td>\n      <td>...</td>\n      <td>...</td>\n      <td>...</td>\n      <td>...</td>\n      <td>...</td>\n      <td>...</td>\n      <td>...</td>\n      <td>...</td>\n    </tr>\n    <tr>\n      <th>5764</th>\n      <td>83723</td>\n      <td>2.0</td>\n      <td>2.0</td>\n      <td>2.0</td>\n      <td>2.0</td>\n      <td>2.0</td>\n      <td>1.0</td>\n      <td>1</td>\n      <td>61</td>\n      <td>0.0</td>\n    </tr>\n    <tr>\n      <th>5765</th>\n      <td>83724</td>\n      <td>2.0</td>\n      <td>2.0</td>\n      <td>1.0</td>\n      <td>1.0</td>\n      <td>1.0</td>\n      <td>2.0</td>\n      <td>1</td>\n      <td>80</td>\n      <td>0.0</td>\n    </tr>\n    <tr>\n      <th>5766</th>\n      <td>83726</td>\n      <td>2.0</td>\n      <td>2.0</td>\n      <td>2.0</td>\n      <td>2.0</td>\n      <td>2.0</td>\n      <td>2.0</td>\n      <td>1</td>\n      <td>40</td>\n      <td>0.0</td>\n    </tr>\n    <tr>\n      <th>5767</th>\n      <td>83727</td>\n      <td>2.0</td>\n      <td>2.0</td>\n      <td>2.0</td>\n      <td>2.0</td>\n      <td>2.0</td>\n      <td>2.0</td>\n      <td>1</td>\n      <td>26</td>\n      <td>0.0</td>\n    </tr>\n    <tr>\n      <th>5768</th>\n      <td>83729</td>\n      <td>2.0</td>\n      <td>2.0</td>\n      <td>2.0</td>\n      <td>2.0</td>\n      <td>2.0</td>\n      <td>2.0</td>\n      <td>2</td>\n      <td>42</td>\n      <td>2.0</td>\n    </tr>\n  </tbody>\n</table>\n<p>5769 rows \u00d7 10 columns</p>\n</div>",
                        "text/plain": "       SEQN  Heart Attack  Stroke  Hypertension  Cholestrol  Smoking  \\\n0     73557           2.0     1.0           1.0         1.0      1.0   \n1     73558           2.0     2.0           1.0         1.0      1.0   \n2     73559           2.0     2.0           1.0         1.0      1.0   \n3     73561           2.0     2.0           1.0         2.0      2.0   \n4     73562           1.0     2.0           1.0         1.0      1.0   \n...     ...           ...     ...           ...         ...      ...   \n5764  83723           2.0     2.0           2.0         2.0      2.0   \n5765  83724           2.0     2.0           1.0         1.0      1.0   \n5766  83726           2.0     2.0           2.0         2.0      2.0   \n5767  83727           2.0     2.0           2.0         2.0      2.0   \n5768  83729           2.0     2.0           2.0         2.0      2.0   \n\n      Diabetes  Gender  Age  Pregnancy Status  \n0          1.0       1   69               0.0  \n1          1.0       1   54               0.0  \n2          1.0       1   72               0.0  \n3          2.0       2   73               2.0  \n4          2.0       1   56               0.0  \n...        ...     ...  ...               ...  \n5764       1.0       1   61               0.0  \n5765       2.0       1   80               0.0  \n5766       2.0       1   40               0.0  \n5767       2.0       1   26               0.0  \n5768       2.0       2   42               2.0  \n\n[5769 rows x 10 columns]"
                    },
                    "execution_count": 213,
                    "metadata": {},
                    "output_type": "execute_result"
                }
            ]
        },
        {
            "metadata": {},
            "cell_type": "code",
            "source": "med_df.set_index('SEQN',inplace=True)\n#med_df.to_csv('Initial_Features_df.csv',index=True)",
            "execution_count": 214,
            "outputs": []
        },
        {
            "metadata": {},
            "cell_type": "markdown",
            "source": "## Risk Assessment Clustering"
        },
        {
            "metadata": {},
            "cell_type": "markdown",
            "source": "After trying multiple clustering techniques \n* **DBSCAN**\n* **Agglomerative Clustering**\n* **KMeans** <br>\n\nKMeans clustering showed the best efficiency"
        },
        {
            "metadata": {},
            "cell_type": "markdown",
            "source": "## Scaling Data"
        },
        {
            "metadata": {},
            "cell_type": "code",
            "source": "norm = MinMaxScaler().fit_transform(df)\ndf_norm = pd.DataFrame(norm, index=med_df.index,columns=med_df.columns)\ndf_norm",
            "execution_count": 215,
            "outputs": [
                {
                    "data": {
                        "text/html": "<div>\n<style scoped>\n    .dataframe tbody tr th:only-of-type {\n        vertical-align: middle;\n    }\n\n    .dataframe tbody tr th {\n        vertical-align: top;\n    }\n\n    .dataframe thead th {\n        text-align: right;\n    }\n</style>\n<table border=\"1\" class=\"dataframe\">\n  <thead>\n    <tr style=\"text-align: right;\">\n      <th></th>\n      <th>Heart Attack</th>\n      <th>Stroke</th>\n      <th>Hypertension</th>\n      <th>Cholestrol</th>\n      <th>Smoking</th>\n      <th>Diabetes</th>\n      <th>Gender</th>\n      <th>Age</th>\n      <th>Pregnancy Status</th>\n    </tr>\n    <tr>\n      <th>SEQN</th>\n      <th></th>\n      <th></th>\n      <th></th>\n      <th></th>\n      <th></th>\n      <th></th>\n      <th></th>\n      <th></th>\n      <th></th>\n    </tr>\n  </thead>\n  <tbody>\n    <tr>\n      <th>73557</th>\n      <td>1.0</td>\n      <td>0.0</td>\n      <td>0.0</td>\n      <td>0.0</td>\n      <td>0.0</td>\n      <td>0.333333</td>\n      <td>0.0</td>\n      <td>0.816667</td>\n      <td>0.000000</td>\n    </tr>\n    <tr>\n      <th>73558</th>\n      <td>1.0</td>\n      <td>1.0</td>\n      <td>0.0</td>\n      <td>0.0</td>\n      <td>0.0</td>\n      <td>0.333333</td>\n      <td>0.0</td>\n      <td>0.566667</td>\n      <td>0.000000</td>\n    </tr>\n    <tr>\n      <th>73559</th>\n      <td>1.0</td>\n      <td>1.0</td>\n      <td>0.0</td>\n      <td>0.0</td>\n      <td>0.0</td>\n      <td>0.333333</td>\n      <td>0.0</td>\n      <td>0.866667</td>\n      <td>0.000000</td>\n    </tr>\n    <tr>\n      <th>73561</th>\n      <td>1.0</td>\n      <td>1.0</td>\n      <td>0.0</td>\n      <td>1.0</td>\n      <td>1.0</td>\n      <td>1.000000</td>\n      <td>1.0</td>\n      <td>0.883333</td>\n      <td>0.666667</td>\n    </tr>\n    <tr>\n      <th>73562</th>\n      <td>0.0</td>\n      <td>1.0</td>\n      <td>0.0</td>\n      <td>0.0</td>\n      <td>0.0</td>\n      <td>1.000000</td>\n      <td>0.0</td>\n      <td>0.600000</td>\n      <td>0.000000</td>\n    </tr>\n    <tr>\n      <th>...</th>\n      <td>...</td>\n      <td>...</td>\n      <td>...</td>\n      <td>...</td>\n      <td>...</td>\n      <td>...</td>\n      <td>...</td>\n      <td>...</td>\n      <td>...</td>\n    </tr>\n    <tr>\n      <th>83723</th>\n      <td>1.0</td>\n      <td>1.0</td>\n      <td>1.0</td>\n      <td>1.0</td>\n      <td>1.0</td>\n      <td>0.333333</td>\n      <td>0.0</td>\n      <td>0.683333</td>\n      <td>0.000000</td>\n    </tr>\n    <tr>\n      <th>83724</th>\n      <td>1.0</td>\n      <td>1.0</td>\n      <td>0.0</td>\n      <td>0.0</td>\n      <td>0.0</td>\n      <td>1.000000</td>\n      <td>0.0</td>\n      <td>1.000000</td>\n      <td>0.000000</td>\n    </tr>\n    <tr>\n      <th>83726</th>\n      <td>1.0</td>\n      <td>1.0</td>\n      <td>1.0</td>\n      <td>1.0</td>\n      <td>1.0</td>\n      <td>1.000000</td>\n      <td>0.0</td>\n      <td>0.333333</td>\n      <td>0.000000</td>\n    </tr>\n    <tr>\n      <th>83727</th>\n      <td>1.0</td>\n      <td>1.0</td>\n      <td>1.0</td>\n      <td>1.0</td>\n      <td>1.0</td>\n      <td>1.000000</td>\n      <td>0.0</td>\n      <td>0.100000</td>\n      <td>0.000000</td>\n    </tr>\n    <tr>\n      <th>83729</th>\n      <td>1.0</td>\n      <td>1.0</td>\n      <td>1.0</td>\n      <td>1.0</td>\n      <td>1.0</td>\n      <td>1.000000</td>\n      <td>1.0</td>\n      <td>0.366667</td>\n      <td>0.666667</td>\n    </tr>\n  </tbody>\n</table>\n<p>5769 rows \u00d7 9 columns</p>\n</div>",
                        "text/plain": "       Heart Attack  Stroke  Hypertension  Cholestrol  Smoking  Diabetes  \\\nSEQN                                                                       \n73557           1.0     0.0           0.0         0.0      0.0  0.333333   \n73558           1.0     1.0           0.0         0.0      0.0  0.333333   \n73559           1.0     1.0           0.0         0.0      0.0  0.333333   \n73561           1.0     1.0           0.0         1.0      1.0  1.000000   \n73562           0.0     1.0           0.0         0.0      0.0  1.000000   \n...             ...     ...           ...         ...      ...       ...   \n83723           1.0     1.0           1.0         1.0      1.0  0.333333   \n83724           1.0     1.0           0.0         0.0      0.0  1.000000   \n83726           1.0     1.0           1.0         1.0      1.0  1.000000   \n83727           1.0     1.0           1.0         1.0      1.0  1.000000   \n83729           1.0     1.0           1.0         1.0      1.0  1.000000   \n\n       Gender       Age  Pregnancy Status  \nSEQN                                       \n73557     0.0  0.816667          0.000000  \n73558     0.0  0.566667          0.000000  \n73559     0.0  0.866667          0.000000  \n73561     1.0  0.883333          0.666667  \n73562     0.0  0.600000          0.000000  \n...       ...       ...               ...  \n83723     0.0  0.683333          0.000000  \n83724     0.0  1.000000          0.000000  \n83726     0.0  0.333333          0.000000  \n83727     0.0  0.100000          0.000000  \n83729     1.0  0.366667          0.666667  \n\n[5769 rows x 9 columns]"
                    },
                    "execution_count": 215,
                    "metadata": {},
                    "output_type": "execute_result"
                }
            ]
        },
        {
            "metadata": {},
            "cell_type": "code",
            "source": "# Drop gender before starting clustering\ndf_norm.drop(columns=['Gender'], inplace=True)",
            "execution_count": 216,
            "outputs": []
        },
        {
            "metadata": {},
            "cell_type": "markdown",
            "source": "## Apply PCA for Dimentionality Reduction to increase efficiency "
        },
        {
            "metadata": {},
            "cell_type": "code",
            "source": "pca = PCA(0.75)\npca.fit(df_norm)\npca_df = pca.transform(df_norm)\npca_df = pd.DataFrame(pca_df, index=df.index, columns=['PCA1','PCA2','PCA3','PCA4'])\npca_df",
            "execution_count": 217,
            "outputs": [
                {
                    "data": {
                        "text/html": "<div>\n<style scoped>\n    .dataframe tbody tr th:only-of-type {\n        vertical-align: middle;\n    }\n\n    .dataframe tbody tr th {\n        vertical-align: top;\n    }\n\n    .dataframe thead th {\n        text-align: right;\n    }\n</style>\n<table border=\"1\" class=\"dataframe\">\n  <thead>\n    <tr style=\"text-align: right;\">\n      <th></th>\n      <th>PCA1</th>\n      <th>PCA2</th>\n      <th>PCA3</th>\n      <th>PCA4</th>\n    </tr>\n    <tr>\n      <th>SEQN</th>\n      <th></th>\n      <th></th>\n      <th></th>\n      <th></th>\n    </tr>\n  </thead>\n  <tbody>\n    <tr>\n      <th>73557</th>\n      <td>1.204746</td>\n      <td>-0.323019</td>\n      <td>-0.064038</td>\n      <td>0.188303</td>\n    </tr>\n    <tr>\n      <th>73558</th>\n      <td>1.065007</td>\n      <td>-0.333416</td>\n      <td>-0.103710</td>\n      <td>0.203325</td>\n    </tr>\n    <tr>\n      <th>73559</th>\n      <td>1.155557</td>\n      <td>-0.321948</td>\n      <td>-0.095184</td>\n      <td>0.167345</td>\n    </tr>\n    <tr>\n      <th>73561</th>\n      <td>0.154829</td>\n      <td>0.502369</td>\n      <td>0.728467</td>\n      <td>-0.262050</td>\n    </tr>\n    <tr>\n      <th>73562</th>\n      <td>1.022197</td>\n      <td>-0.419865</td>\n      <td>-0.090318</td>\n      <td>-0.421713</td>\n    </tr>\n    <tr>\n      <th>...</th>\n      <td>...</td>\n      <td>...</td>\n      <td>...</td>\n      <td>...</td>\n    </tr>\n    <tr>\n      <th>83723</th>\n      <td>-0.412104</td>\n      <td>0.279486</td>\n      <td>-0.033730</td>\n      <td>0.336330</td>\n    </tr>\n    <tr>\n      <th>83724</th>\n      <td>1.063408</td>\n      <td>-0.390012</td>\n      <td>-0.090355</td>\n      <td>-0.460043</td>\n    </tr>\n    <tr>\n      <th>83726</th>\n      <td>-0.650141</td>\n      <td>0.192944</td>\n      <td>-0.042637</td>\n      <td>-0.233089</td>\n    </tr>\n    <tr>\n      <th>83727</th>\n      <td>-0.720569</td>\n      <td>0.184024</td>\n      <td>-0.049268</td>\n      <td>-0.205104</td>\n    </tr>\n    <tr>\n      <th>83729</th>\n      <td>-0.653345</td>\n      <td>0.332511</td>\n      <td>0.044187</td>\n      <td>-0.035623</td>\n    </tr>\n  </tbody>\n</table>\n<p>5769 rows \u00d7 4 columns</p>\n</div>",
                        "text/plain": "           PCA1      PCA2      PCA3      PCA4\nSEQN                                         \n73557  1.204746 -0.323019 -0.064038  0.188303\n73558  1.065007 -0.333416 -0.103710  0.203325\n73559  1.155557 -0.321948 -0.095184  0.167345\n73561  0.154829  0.502369  0.728467 -0.262050\n73562  1.022197 -0.419865 -0.090318 -0.421713\n...         ...       ...       ...       ...\n83723 -0.412104  0.279486 -0.033730  0.336330\n83724  1.063408 -0.390012 -0.090355 -0.460043\n83726 -0.650141  0.192944 -0.042637 -0.233089\n83727 -0.720569  0.184024 -0.049268 -0.205104\n83729 -0.653345  0.332511  0.044187 -0.035623\n\n[5769 rows x 4 columns]"
                    },
                    "execution_count": 217,
                    "metadata": {},
                    "output_type": "execute_result"
                }
            ]
        },
        {
            "metadata": {},
            "cell_type": "markdown",
            "source": "## Applying KMeans"
        },
        {
            "metadata": {},
            "cell_type": "code",
            "source": "# draw the elbow curve\ndef elbowcurve(df):\n    SSE = []\n    for i in range(2,20):\n        x_clusters, sse = kmean(df,i)\n        SSE.append(sse)\n    plt.figure()\n    plt.plot(SSE, 'ro:')\n    plt.xlabel('K')\n    plt.ylabel('SSE')\n    plt.title('Elbow Curve', size=20)\n    plt.show()",
            "execution_count": 218,
            "outputs": []
        },
        {
            "metadata": {},
            "cell_type": "code",
            "source": "# apply kmeans and get sse\ndef kmean(df, clus):\n    km = KMeans(n_clusters=clus, init='k-means++', random_state=0)\n    km.fit(df)\n    return km.predict(df), round(km.inertia_,2)",
            "execution_count": 219,
            "outputs": []
        },
        {
            "metadata": {},
            "cell_type": "code",
            "source": "elbowcurve(pca_df) # from the elbow curve get the best k value",
            "execution_count": 220,
            "outputs": [
                {
                    "data": {
                        "image/png": "[encoded data removed]",
                        "text/plain": "<Figure size 432x288 with 1 Axes>"
                    },
                    "metadata": {
                        "needs_background": "light"
                    },
                    "output_type": "display_data"
                }
            ]
        },
        {
            "metadata": {},
            "cell_type": "code",
            "source": "x_clusters,sse= kmean(pca_df,7)\nprint('SSE = ', sse)",
            "execution_count": 221,
            "outputs": [
                {
                    "name": "stdout",
                    "output_type": "stream",
                    "text": "SSE =  1050.83\n"
                }
            ]
        },
        {
            "metadata": {},
            "cell_type": "markdown",
            "source": "## Create Clustered Dataframe"
        },
        {
            "metadata": {},
            "cell_type": "code",
            "source": "df_clustered = df.copy()\ndf_clustered['Cluster'] = x_clusters\ndf_clustered",
            "execution_count": 222,
            "outputs": [
                {
                    "data": {
                        "text/html": "<div>\n<style scoped>\n    .dataframe tbody tr th:only-of-type {\n        vertical-align: middle;\n    }\n\n    .dataframe tbody tr th {\n        vertical-align: top;\n    }\n\n    .dataframe thead th {\n        text-align: right;\n    }\n</style>\n<table border=\"1\" class=\"dataframe\">\n  <thead>\n    <tr style=\"text-align: right;\">\n      <th></th>\n      <th>Heart Attack</th>\n      <th>Stroke</th>\n      <th>Hypertension</th>\n      <th>Cholestrol</th>\n      <th>Smoking</th>\n      <th>Diabetes</th>\n      <th>Gender</th>\n      <th>Age</th>\n      <th>Pregnancy Status</th>\n      <th>Cluster</th>\n    </tr>\n    <tr>\n      <th>SEQN</th>\n      <th></th>\n      <th></th>\n      <th></th>\n      <th></th>\n      <th></th>\n      <th></th>\n      <th></th>\n      <th></th>\n      <th></th>\n      <th></th>\n    </tr>\n  </thead>\n  <tbody>\n    <tr>\n      <th>73557</th>\n      <td>2.0</td>\n      <td>1.0</td>\n      <td>1.0</td>\n      <td>1.0</td>\n      <td>1.0</td>\n      <td>1.0</td>\n      <td>1</td>\n      <td>69</td>\n      <td>0.0</td>\n      <td>1</td>\n    </tr>\n    <tr>\n      <th>73558</th>\n      <td>2.0</td>\n      <td>2.0</td>\n      <td>1.0</td>\n      <td>1.0</td>\n      <td>1.0</td>\n      <td>1.0</td>\n      <td>1</td>\n      <td>54</td>\n      <td>0.0</td>\n      <td>1</td>\n    </tr>\n    <tr>\n      <th>73559</th>\n      <td>2.0</td>\n      <td>2.0</td>\n      <td>1.0</td>\n      <td>1.0</td>\n      <td>1.0</td>\n      <td>1.0</td>\n      <td>1</td>\n      <td>72</td>\n      <td>0.0</td>\n      <td>1</td>\n    </tr>\n    <tr>\n      <th>73561</th>\n      <td>2.0</td>\n      <td>2.0</td>\n      <td>1.0</td>\n      <td>2.0</td>\n      <td>2.0</td>\n      <td>2.0</td>\n      <td>2</td>\n      <td>73</td>\n      <td>2.0</td>\n      <td>6</td>\n    </tr>\n    <tr>\n      <th>73562</th>\n      <td>1.0</td>\n      <td>2.0</td>\n      <td>1.0</td>\n      <td>1.0</td>\n      <td>1.0</td>\n      <td>2.0</td>\n      <td>1</td>\n      <td>56</td>\n      <td>0.0</td>\n      <td>1</td>\n    </tr>\n    <tr>\n      <th>...</th>\n      <td>...</td>\n      <td>...</td>\n      <td>...</td>\n      <td>...</td>\n      <td>...</td>\n      <td>...</td>\n      <td>...</td>\n      <td>...</td>\n      <td>...</td>\n      <td>...</td>\n    </tr>\n    <tr>\n      <th>83723</th>\n      <td>2.0</td>\n      <td>2.0</td>\n      <td>2.0</td>\n      <td>2.0</td>\n      <td>2.0</td>\n      <td>1.0</td>\n      <td>1</td>\n      <td>61</td>\n      <td>0.0</td>\n      <td>0</td>\n    </tr>\n    <tr>\n      <th>83724</th>\n      <td>2.0</td>\n      <td>2.0</td>\n      <td>1.0</td>\n      <td>1.0</td>\n      <td>1.0</td>\n      <td>2.0</td>\n      <td>1</td>\n      <td>80</td>\n      <td>0.0</td>\n      <td>1</td>\n    </tr>\n    <tr>\n      <th>83726</th>\n      <td>2.0</td>\n      <td>2.0</td>\n      <td>2.0</td>\n      <td>2.0</td>\n      <td>2.0</td>\n      <td>2.0</td>\n      <td>1</td>\n      <td>40</td>\n      <td>0.0</td>\n      <td>0</td>\n    </tr>\n    <tr>\n      <th>83727</th>\n      <td>2.0</td>\n      <td>2.0</td>\n      <td>2.0</td>\n      <td>2.0</td>\n      <td>2.0</td>\n      <td>2.0</td>\n      <td>1</td>\n      <td>26</td>\n      <td>0.0</td>\n      <td>0</td>\n    </tr>\n    <tr>\n      <th>83729</th>\n      <td>2.0</td>\n      <td>2.0</td>\n      <td>2.0</td>\n      <td>2.0</td>\n      <td>2.0</td>\n      <td>2.0</td>\n      <td>2</td>\n      <td>42</td>\n      <td>2.0</td>\n      <td>0</td>\n    </tr>\n  </tbody>\n</table>\n<p>5769 rows \u00d7 10 columns</p>\n</div>",
                        "text/plain": "       Heart Attack  Stroke  Hypertension  Cholestrol  Smoking  Diabetes  \\\nSEQN                                                                       \n73557           2.0     1.0           1.0         1.0      1.0       1.0   \n73558           2.0     2.0           1.0         1.0      1.0       1.0   \n73559           2.0     2.0           1.0         1.0      1.0       1.0   \n73561           2.0     2.0           1.0         2.0      2.0       2.0   \n73562           1.0     2.0           1.0         1.0      1.0       2.0   \n...             ...     ...           ...         ...      ...       ...   \n83723           2.0     2.0           2.0         2.0      2.0       1.0   \n83724           2.0     2.0           1.0         1.0      1.0       2.0   \n83726           2.0     2.0           2.0         2.0      2.0       2.0   \n83727           2.0     2.0           2.0         2.0      2.0       2.0   \n83729           2.0     2.0           2.0         2.0      2.0       2.0   \n\n       Gender  Age  Pregnancy Status  Cluster  \nSEQN                                           \n73557       1   69               0.0        1  \n73558       1   54               0.0        1  \n73559       1   72               0.0        1  \n73561       2   73               2.0        6  \n73562       1   56               0.0        1  \n...       ...  ...               ...      ...  \n83723       1   61               0.0        0  \n83724       1   80               0.0        1  \n83726       1   40               0.0        0  \n83727       1   26               0.0        0  \n83729       2   42               2.0        0  \n\n[5769 rows x 10 columns]"
                    },
                    "execution_count": 222,
                    "metadata": {},
                    "output_type": "execute_result"
                }
            ]
        },
        {
            "metadata": {},
            "cell_type": "code",
            "source": "#df_clustered.to_csv('PCA_Clusterd_df.csv',index=False)",
            "execution_count": 223,
            "outputs": []
        },
        {
            "metadata": {},
            "cell_type": "markdown",
            "source": "## Classifier"
        },
        {
            "metadata": {
                "scrolled": true
            },
            "cell_type": "code",
            "source": "# used logistic regressor as the classifier for classifying any input data into a cluster\nX_train, X_test, y_train, y_test = train_test_split(df_clustered.drop(columns=['Cluster']), df_clustered.Cluster, test_size=0.3, random_state=0)\nmodel = LogisticRegression(random_state=42)\nmodel.fit(X_train, y_train)",
            "execution_count": null,
            "outputs": []
        },
        {
            "metadata": {},
            "cell_type": "code",
            "source": "# save the classifier model for later use\nfilename = 'cluster_model.sav'\n#pickle.dump(model, open(filename, 'wb'))",
            "execution_count": 227,
            "outputs": []
        },
        {
            "metadata": {},
            "cell_type": "markdown",
            "source": "# Cost Prediction Reggressor"
        },
        {
            "metadata": {},
            "cell_type": "markdown",
            "source": "Completed at different Notebook"
        }
    ],
    "metadata": {
        "kernelspec": {
            "name": "python3",
            "display_name": "Python 3.7",
            "language": "python"
        },
        "language_info": {
            "name": "python",
            "version": "3.7.9",
            "mimetype": "text/x-python",
            "codemirror_mode": {
                "name": "ipython",
                "version": 3
            },
            "pygments_lexer": "ipython3",
            "nbconvert_exporter": "python",
            "file_extension": ".py"
        }
    },
    "nbformat": 4,
    "nbformat_minor": 4
}